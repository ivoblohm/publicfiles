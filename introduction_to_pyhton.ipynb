{
  "nbformat": 4,
  "nbformat_minor": 0,
  "metadata": {
    "kernelspec": {
      "display_name": "Python 3",
      "language": "python",
      "name": "python3"
    },
    "language_info": {
      "codemirror_mode": {
        "name": "ipython",
        "version": 3
      },
      "file_extension": ".py",
      "mimetype": "text/x-python",
      "name": "python",
      "nbconvert_exporter": "python",
      "pygments_lexer": "ipython3",
      "version": "3.6.5"
    },
    "colab": {
      "name": "Copy of introduction_to_pyhton.ipynb",
      "provenance": [],
      "collapsed_sections": [],
      "toc_visible": true
    }
  },
  "cells": [
    {
      "cell_type": "markdown",
      "metadata": {
        "id": "dYAdZArtPJZ9",
        "colab_type": "text"
      },
      "source": [
        "# Python as calculator"
      ]
    },
    {
      "cell_type": "code",
      "metadata": {
        "id": "37X3ux2ePJZ_",
        "colab_type": "code",
        "outputId": "06151832-02e6-4de1-bc6b-6ab79d748992",
        "colab": {
          "base_uri": "https://localhost:8080/",
          "height": 34
        }
      },
      "source": [
        "2 * 3"
      ],
      "execution_count": 0,
      "outputs": [
        {
          "output_type": "execute_result",
          "data": {
            "text/plain": [
              "6"
            ]
          },
          "metadata": {
            "tags": []
          },
          "execution_count": 1
        }
      ]
    },
    {
      "cell_type": "code",
      "metadata": {
        "id": "8j4zVSMPPJaF",
        "colab_type": "code",
        "outputId": "071d3d1e-07e0-4780-d056-734e46601d20",
        "colab": {
          "base_uri": "https://localhost:8080/",
          "height": 34
        }
      },
      "source": [
        "10 + 2 - 1 * 3"
      ],
      "execution_count": 0,
      "outputs": [
        {
          "output_type": "execute_result",
          "data": {
            "text/plain": [
              "9"
            ]
          },
          "metadata": {
            "tags": []
          },
          "execution_count": 2
        }
      ]
    },
    {
      "cell_type": "code",
      "metadata": {
        "id": "jzPKaVH7PJaI",
        "colab_type": "code",
        "outputId": "19c88ec7-f407-45ec-9d46-ff37622b28f9",
        "colab": {
          "base_uri": "https://localhost:8080/",
          "height": 34
        }
      },
      "source": [
        "3 ** 2"
      ],
      "execution_count": 0,
      "outputs": [
        {
          "output_type": "execute_result",
          "data": {
            "text/plain": [
              "9"
            ]
          },
          "metadata": {
            "tags": []
          },
          "execution_count": 3
        }
      ]
    },
    {
      "cell_type": "markdown",
      "metadata": {
        "id": "xu8YJerwPJaK",
        "colab_type": "text"
      },
      "source": [
        "# Comments"
      ]
    },
    {
      "cell_type": "code",
      "metadata": {
        "id": "QzePd0sePJaL",
        "colab_type": "code",
        "colab": {}
      },
      "source": [
        "# if some code is beginning with \"#\" it is a comment - python \"ignores\" it when running the code, i.e., it is not shown in the output"
      ],
      "execution_count": 0,
      "outputs": []
    },
    {
      "cell_type": "markdown",
      "metadata": {
        "id": "Dw0v5pf8mx_p",
        "colab_type": "text"
      },
      "source": [
        "# Connect Google Colab to Google Drive"
      ]
    },
    {
      "cell_type": "markdown",
      "metadata": {
        "id": "OgLfwIIBo38v",
        "colab_type": "text"
      },
      "source": [
        "First of all, we need to setup the infrastructure. Let's connect Google Collab to Google Drive. We need that for uploading files."
      ]
    },
    {
      "cell_type": "code",
      "metadata": {
        "id": "6nVXsXol8UEX",
        "colab_type": "code",
        "outputId": "652f3388-3b3e-4a5c-8486-228c64113cc6",
        "colab": {
          "base_uri": "https://localhost:8080/",
          "height": 121
        }
      },
      "source": [
        "from google.colab import drive\n",
        "drive.mount('/content/drive')"
      ],
      "execution_count": 4,
      "outputs": [
        {
          "output_type": "stream",
          "text": [
            "Go to this URL in a browser: https://accounts.google.com/o/oauth2/auth?client_id=947318989803-6bn6qk8qdgf4n4g3pfee6491hc0brc4i.apps.googleusercontent.com&redirect_uri=urn%3aietf%3awg%3aoauth%3a2.0%3aoob&response_type=code&scope=email%20https%3a%2f%2fwww.googleapis.com%2fauth%2fdocs.test%20https%3a%2f%2fwww.googleapis.com%2fauth%2fdrive%20https%3a%2f%2fwww.googleapis.com%2fauth%2fdrive.photos.readonly%20https%3a%2f%2fwww.googleapis.com%2fauth%2fpeopleapi.readonly\n",
            "\n",
            "Enter your authorization code:\n",
            "··········\n",
            "Mounted at /content/drive\n"
          ],
          "name": "stdout"
        }
      ]
    },
    {
      "cell_type": "markdown",
      "metadata": {
        "id": "fJCl8IgIPJaO",
        "colab_type": "text"
      },
      "source": [
        "# Variables and Data Types"
      ]
    },
    {
      "cell_type": "markdown",
      "metadata": {
        "id": "PVMiXZ9UPJaP",
        "colab_type": "text"
      },
      "source": [
        "We can store numbers, results of calculations or all kind of other values in variables. \n",
        "\n",
        "Let's make a small example of the University of St. Gallens gift shop:"
      ]
    },
    {
      "cell_type": "code",
      "metadata": {
        "id": "RSI9RsxYHSjK",
        "colab_type": "code",
        "outputId": "e713eaf9-d8fb-45de-9455-8aa2d4477b9c",
        "colab": {
          "base_uri": "https://localhost:8080/",
          "height": 34
        }
      },
      "source": [
        "revenue = 10000\n",
        "profit = 1500\n",
        "margin = profit / revenue\n",
        "print(margin)"
      ],
      "execution_count": 0,
      "outputs": [
        {
          "output_type": "stream",
          "text": [
            "0.15\n"
          ],
          "name": "stdout"
        }
      ]
    },
    {
      "cell_type": "markdown",
      "metadata": {
        "id": "DX3lrotHIE9Q",
        "colab_type": "text"
      },
      "source": [
        "# Integers"
      ]
    },
    {
      "cell_type": "markdown",
      "metadata": {
        "id": "Z__7yRa3IG8k",
        "colab_type": "text"
      },
      "source": [
        "Integers are whole numbers like 1, -2, or 3"
      ]
    },
    {
      "cell_type": "code",
      "metadata": {
        "id": "8A_4GFTtINLq",
        "colab_type": "code",
        "outputId": "c5620ede-eb0d-41e6-a344-094eef9dc11d",
        "colab": {
          "base_uri": "https://localhost:8080/",
          "height": 34
        }
      },
      "source": [
        "type(revenue)"
      ],
      "execution_count": 0,
      "outputs": [
        {
          "output_type": "execute_result",
          "data": {
            "text/plain": [
              "int"
            ]
          },
          "metadata": {
            "tags": []
          },
          "execution_count": 7
        }
      ]
    },
    {
      "cell_type": "markdown",
      "metadata": {
        "id": "LMzRt-kYITqe",
        "colab_type": "text"
      },
      "source": [
        "# Floats"
      ]
    },
    {
      "cell_type": "markdown",
      "metadata": {
        "id": "vqic8XHKIWhA",
        "colab_type": "text"
      },
      "source": [
        "Floats are real numbers, numbers that have an integer part and a fraction part, for example 1.23 or -6.32"
      ]
    },
    {
      "cell_type": "code",
      "metadata": {
        "id": "AgSMW9ORIvyA",
        "colab_type": "code",
        "outputId": "b2bd54f4-c983-4167-d95f-70262e526c20",
        "colab": {
          "base_uri": "https://localhost:8080/",
          "height": 34
        }
      },
      "source": [
        "type(margin)"
      ],
      "execution_count": 0,
      "outputs": [
        {
          "output_type": "execute_result",
          "data": {
            "text/plain": [
              "float"
            ]
          },
          "metadata": {
            "tags": []
          },
          "execution_count": 8
        }
      ]
    },
    {
      "cell_type": "markdown",
      "metadata": {
        "id": "3uwjh0vRJ2wd",
        "colab_type": "text"
      },
      "source": [
        "# Strings"
      ]
    },
    {
      "cell_type": "markdown",
      "metadata": {
        "id": "Qo3sCeaxJ4Fh",
        "colab_type": "text"
      },
      "source": [
        "text is stored as a string variable. Values that are stored as string are usually indicated by parentheses \" \" or ' '"
      ]
    },
    {
      "cell_type": "code",
      "metadata": {
        "id": "Hsmii76hKG2l",
        "colab_type": "code",
        "outputId": "6c84bb06-44cf-4117-94ec-535b2811f56c",
        "colab": {
          "base_uri": "https://localhost:8080/",
          "height": 34
        }
      },
      "source": [
        "text = \"123\"\n",
        "type(text)"
      ],
      "execution_count": 0,
      "outputs": [
        {
          "output_type": "execute_result",
          "data": {
            "text/plain": [
              "str"
            ]
          },
          "metadata": {
            "tags": []
          },
          "execution_count": 12
        }
      ]
    },
    {
      "cell_type": "markdown",
      "metadata": {
        "id": "TCKLEP7zLyhg",
        "colab_type": "text"
      },
      "source": [
        "# Booleans"
      ]
    },
    {
      "cell_type": "markdown",
      "metadata": {
        "id": "bF_F-qwYL0lu",
        "colab_type": "text"
      },
      "source": [
        "Variables that can only take the values of True or False"
      ]
    },
    {
      "cell_type": "code",
      "metadata": {
        "id": "hmOhUFprL-Pj",
        "colab_type": "code",
        "outputId": "e7f62a10-d109-42d7-da5d-86078f06b16d",
        "colab": {
          "base_uri": "https://localhost:8080/",
          "height": 34
        }
      },
      "source": [
        "x=True\n",
        "type(x)"
      ],
      "execution_count": 0,
      "outputs": [
        {
          "output_type": "execute_result",
          "data": {
            "text/plain": [
              "bool"
            ]
          },
          "metadata": {
            "tags": []
          },
          "execution_count": 13
        }
      ]
    },
    {
      "cell_type": "markdown",
      "metadata": {
        "id": "xGrijNmHM6ll",
        "colab_type": "text"
      },
      "source": [
        "# Python Lists"
      ]
    },
    {
      "cell_type": "markdown",
      "metadata": {
        "id": "QJ5fXrUnMpTx",
        "colab_type": "text"
      },
      "source": [
        "Variables can only store single values. Lists are \"containers\" that are provided by python that can store several values.\n",
        "\n",
        "Let's have a look at the products of our small shop"
      ]
    },
    {
      "cell_type": "code",
      "metadata": {
        "id": "d7zT9W-cM2w3",
        "colab_type": "code",
        "colab": {}
      },
      "source": [
        "Shirts = 500 \n",
        "Hoodies = 200\n",
        "Bags = 100"
      ],
      "execution_count": 0,
      "outputs": []
    },
    {
      "cell_type": "markdown",
      "metadata": {
        "id": "gL2vrtSINRUz",
        "colab_type": "text"
      },
      "source": [
        "we can create a list with []"
      ]
    },
    {
      "cell_type": "code",
      "metadata": {
        "id": "myGxzlUzNU4C",
        "colab_type": "code",
        "outputId": "6a6d5661-f375-487f-fe02-1993ac440935",
        "colab": {
          "base_uri": "https://localhost:8080/",
          "height": 34
        }
      },
      "source": [
        "items = [Shirts, Hoodies, Bags]\n",
        "print(items)"
      ],
      "execution_count": 0,
      "outputs": [
        {
          "output_type": "stream",
          "text": [
            "[500, 200, 100]\n"
          ],
          "name": "stdout"
        }
      ]
    },
    {
      "cell_type": "markdown",
      "metadata": {
        "id": "c6iM8JOyN5Sq",
        "colab_type": "text"
      },
      "source": [
        "Lists can handle all types of data (and also other lists)"
      ]
    },
    {
      "cell_type": "code",
      "metadata": {
        "id": "ZPV4jbw1OCBR",
        "colab_type": "code",
        "outputId": "f137dc3b-2403-4210-fb88-242bfaf400ea",
        "colab": {
          "base_uri": "https://localhost:8080/",
          "height": 34
        }
      },
      "source": [
        "items = [\"Shirts\", Shirts, \"Hoodies\", Hoodies, \"Bags\", Bags, \"Shoes\", 200]\n",
        "print(items)"
      ],
      "execution_count": 0,
      "outputs": [
        {
          "output_type": "stream",
          "text": [
            "['Shirts', 500, 'Hoodies', 200, 'Bags', 100, 'Shoes', 200]\n"
          ],
          "name": "stdout"
        }
      ]
    },
    {
      "cell_type": "markdown",
      "metadata": {
        "id": "KY4DzTfGcoKL",
        "colab_type": "text"
      },
      "source": [
        "# Filtering from Lists (Subsetting)"
      ]
    },
    {
      "cell_type": "markdown",
      "metadata": {
        "id": "X_-h6Jltcr04",
        "colab_type": "text"
      },
      "source": [
        "## Selecting single Elements"
      ]
    },
    {
      "cell_type": "markdown",
      "metadata": {
        "id": "eoFrXJWyc2Iz",
        "colab_type": "text"
      },
      "source": [
        "We can access single values from a list if the put a number in the [ ]. \n",
        "\n",
        "In principle **listname[n]** should return the nth value from the list. However, python uses **zero-based indexing**, i.e., it **starts counting with 0**.\n",
        "\n",
        "Thus, list[n] returns the nth-1 element from the list.\n",
        "\n"
      ]
    },
    {
      "cell_type": "code",
      "metadata": {
        "id": "IGf3_SzReuLe",
        "colab_type": "code",
        "outputId": "ce9ee687-6027-4653-8e25-fc5b9825d5e9",
        "colab": {
          "base_uri": "https://localhost:8080/",
          "height": 34
        }
      },
      "source": [
        "print(items)"
      ],
      "execution_count": 0,
      "outputs": [
        {
          "output_type": "stream",
          "text": [
            "['Shirts', 500, 'Hoodies', 200, 'Bags', 100, 'Shoes', 200]\n"
          ],
          "name": "stdout"
        }
      ]
    },
    {
      "cell_type": "code",
      "metadata": {
        "id": "f33CdNmtezTi",
        "colab_type": "code",
        "outputId": "e7d08978-6b4e-4487-e479-5035cd08b575",
        "colab": {
          "base_uri": "https://localhost:8080/",
          "height": 67
        }
      },
      "source": [
        "# get first element\n",
        "print(items[0])\n",
        "\n",
        "# get second element\n",
        "print(items[1])\n",
        "\n",
        "# get last item\n",
        "print(items[-1])"
      ],
      "execution_count": 0,
      "outputs": [
        {
          "output_type": "stream",
          "text": [
            "Shirts\n",
            "500\n",
            "200\n"
          ],
          "name": "stdout"
        }
      ]
    },
    {
      "cell_type": "markdown",
      "metadata": {
        "id": "5fGgZvbKhZXh",
        "colab_type": "text"
      },
      "source": [
        "# Multiple items "
      ]
    },
    {
      "cell_type": "markdown",
      "metadata": {
        "id": "c041iJyFhcp7",
        "colab_type": "text"
      },
      "source": [
        "We can also select \"slices\" of elements. \n",
        "\n",
        "list **[0:2]** selects the first and the second element of our list. The first element is inclusive and end the second element is exclusive: \n",
        "\n",
        "**[ inclusive : exclusive ]**"
      ]
    },
    {
      "cell_type": "code",
      "metadata": {
        "id": "C8cCYcPQhdf2",
        "colab_type": "code",
        "outputId": "42f419a5-2374-4cc6-ac9a-7a80c689c875",
        "colab": {
          "base_uri": "https://localhost:8080/",
          "height": 34
        }
      },
      "source": [
        "# get the first to elements\n",
        "items[0:2]\n",
        "\n",
        "# get the first four items\n",
        "items[:4]\n",
        "\n",
        "# get the third element and everything beyond\n",
        "items[2:]"
      ],
      "execution_count": 0,
      "outputs": [
        {
          "output_type": "execute_result",
          "data": {
            "text/plain": [
              "['Hoodies', 200, 'Bags', 100, 'Shoes', 200]"
            ]
          },
          "metadata": {
            "tags": []
          },
          "execution_count": 32
        }
      ]
    },
    {
      "cell_type": "markdown",
      "metadata": {
        "id": "URBcB3nIizhU",
        "colab_type": "text"
      },
      "source": [
        "# Update Lists"
      ]
    },
    {
      "cell_type": "code",
      "metadata": {
        "id": "oy8sfUISi1Rb",
        "colab_type": "code",
        "outputId": "70c4ac57-d52b-444d-add8-9c07923409df",
        "colab": {
          "base_uri": "https://localhost:8080/",
          "height": 84
        }
      },
      "source": [
        "print(items)\n",
        "\n",
        "# update the first element of a list\n",
        "items[0] = \"T-Shirts\"\n",
        "print(items)\n",
        "\n",
        "# delete items of a list\n",
        "del(items[-1])\n",
        "print(items)\n",
        "\n",
        "# combine different lists\n",
        "items = items + [\"200\", \"Coffee Cups\", \"123\"]\n",
        "print(items)"
      ],
      "execution_count": 0,
      "outputs": [
        {
          "output_type": "stream",
          "text": [
            "['T-Shirts', 500, 'Hoodies', 200, 'Bags', 100, 'Shoes']\n",
            "['T-Shirts', 500, 'Hoodies', 200, 'Bags', 100, 'Shoes']\n",
            "['T-Shirts', 500, 'Hoodies', 200, 'Bags', 100]\n",
            "['T-Shirts', 500, 'Hoodies', 200, 'Bags', 100, '200', 'Coffee Cups', '123']\n"
          ],
          "name": "stdout"
        }
      ]
    },
    {
      "cell_type": "markdown",
      "metadata": {
        "id": "jevQ7FBs_a0A",
        "colab_type": "text"
      },
      "source": [
        "# Function and Libraries"
      ]
    },
    {
      "cell_type": "markdown",
      "metadata": {
        "id": "nAGWBlEc_f1o",
        "colab_type": "text"
      },
      "source": [
        "Python offers a magnitude of built-in functions. Functions are code that has been written by other persons that carries out some specific task. Using such functions, we can re-use that code and do not have to write it by ourselves!  \n",
        "\n",
        "We already worked with functions: **type()** or **del()**. \n",
        "\n",
        "Other built-in python functions that are handy for changing data types are\n",
        "- bool()\n",
        "- float()\n",
        "- int()\n",
        "- str() "
      ]
    },
    {
      "cell_type": "markdown",
      "metadata": {
        "id": "GiI8-s0W_hap",
        "colab_type": "text"
      },
      "source": [
        "A function usually consists of two parts. A **\"function name\"** (e.g., \"str\") and one or more inputs that are called **arguments** (e.g., \"data\"):\n",
        "\n",
        "**functionname(argument)**"
      ]
    },
    {
      "cell_type": "code",
      "metadata": {
        "id": "bzS6EjuyBRu6",
        "colab_type": "code",
        "outputId": "9c233c5c-019e-4742-d139-c35ee2563730",
        "colab": {
          "base_uri": "https://localhost:8080/",
          "height": 84
        }
      },
      "source": [
        "print(revenue)\n",
        "print(type(revenue))\n",
        "\n",
        "revenue_str = str(revenue)\n",
        "print(revenue_str)\n",
        "print(type(revenue_str))"
      ],
      "execution_count": 0,
      "outputs": [
        {
          "output_type": "stream",
          "text": [
            "10000\n",
            "<class 'int'>\n",
            "10000\n",
            "<class 'str'>\n"
          ],
          "name": "stdout"
        }
      ]
    },
    {
      "cell_type": "markdown",
      "metadata": {
        "id": "WoK6Bf49ByAF",
        "colab_type": "text"
      },
      "source": [
        "# Libraries"
      ]
    },
    {
      "cell_type": "markdown",
      "metadata": {
        "id": "JEfHWK6PB13a",
        "colab_type": "text"
      },
      "source": [
        "A library is a collection of functions that have been contributed by the python open source community and that can be used by us"
      ]
    },
    {
      "cell_type": "markdown",
      "metadata": {
        "id": "7JaptAhhCLSM",
        "colab_type": "text"
      },
      "source": [
        "# Pandas"
      ]
    },
    {
      "cell_type": "markdown",
      "metadata": {
        "id": "hqtGSkdqCPlt",
        "colab_type": "text"
      },
      "source": [
        "One of the most important libraries for data analysis in python is called **pandas**. \n",
        "\n",
        "Pandas can be used to \n",
        "- Loading data sets into Pyhton \n",
        "- Manipulating data and performing mathematical standard operations on the data\n",
        "- Providing data structures to organize data in rows and columns (as in typical spreadsheet software). \"Spreadsheets\" in python are called **DataFrames**\n",
        "- Perform basic visualization\n",
        "\n",
        "Libraries need to be inialialized before they can be used in python. We can easily intialize pandes with the following command:"
      ]
    },
    {
      "cell_type": "code",
      "metadata": {
        "id": "AJEkb79WCZj1",
        "colab_type": "code",
        "colab": {}
      },
      "source": [
        "import pandas as pd"
      ],
      "execution_count": 0,
      "outputs": []
    },
    {
      "cell_type": "markdown",
      "metadata": {
        "id": "vb7l2kVrE0Lc",
        "colab_type": "text"
      },
      "source": [
        "# Import Data"
      ]
    },
    {
      "cell_type": "code",
      "metadata": {
        "id": "CjSeRvs9E1qf",
        "colab_type": "code",
        "colab": {}
      },
      "source": [
        "df = pd.read_excel(\"drive/My Drive/Colab Notebooks/CAS BDAI/hsgshop.xlsx\", sheet_name=0)"
      ],
      "execution_count": 0,
      "outputs": []
    },
    {
      "cell_type": "markdown",
      "metadata": {
        "id": "qO31w-69Gpes",
        "colab_type": "text"
      },
      "source": [
        "# Methods"
      ]
    },
    {
      "cell_type": "markdown",
      "metadata": {
        "id": "cQZ6jGMyHGu-",
        "colab_type": "text"
      },
      "source": [
        "Methods are similar to functions - they are prepackaged code snippets that can carry out a speficic task. However, they are directly associated to a python object (e.g., the DataFrame \"df\" that we have just created). Methods are called on a given object and applied to the data within that object / DataFrame. \n",
        "\n",
        "The logic for using a method is always\n",
        "\n",
        "**objectname.methodname()**"
      ]
    },
    {
      "cell_type": "code",
      "metadata": {
        "id": "rVtjoaY-HHhm",
        "colab_type": "code",
        "outputId": "801a03a5-d02d-4e06-f547-7989c470cd76",
        "colab": {
          "base_uri": "https://localhost:8080/",
          "height": 195
        }
      },
      "source": [
        "df.head()"
      ],
      "execution_count": 0,
      "outputs": [
        {
          "output_type": "execute_result",
          "data": {
            "text/html": [
              "<div>\n",
              "<style scoped>\n",
              "    .dataframe tbody tr th:only-of-type {\n",
              "        vertical-align: middle;\n",
              "    }\n",
              "\n",
              "    .dataframe tbody tr th {\n",
              "        vertical-align: top;\n",
              "    }\n",
              "\n",
              "    .dataframe thead th {\n",
              "        text-align: right;\n",
              "    }\n",
              "</style>\n",
              "<table border=\"1\" class=\"dataframe\">\n",
              "  <thead>\n",
              "    <tr style=\"text-align: right;\">\n",
              "      <th></th>\n",
              "      <th>Product</th>\n",
              "      <th>Sales Channel</th>\n",
              "      <th>Revenue 2018</th>\n",
              "      <th>Revenue 2019</th>\n",
              "    </tr>\n",
              "  </thead>\n",
              "  <tbody>\n",
              "    <tr>\n",
              "      <th>0</th>\n",
              "      <td>Sweatshirts</td>\n",
              "      <td>Online Shop</td>\n",
              "      <td>100000</td>\n",
              "      <td>110000</td>\n",
              "    </tr>\n",
              "    <tr>\n",
              "      <th>1</th>\n",
              "      <td>Sweetshirts</td>\n",
              "      <td>Merchandise Store</td>\n",
              "      <td>200000</td>\n",
              "      <td>210000</td>\n",
              "    </tr>\n",
              "    <tr>\n",
              "      <th>2</th>\n",
              "      <td>Sweetshirts</td>\n",
              "      <td>Events</td>\n",
              "      <td>50000</td>\n",
              "      <td>48000</td>\n",
              "    </tr>\n",
              "    <tr>\n",
              "      <th>3</th>\n",
              "      <td>T-Shirts</td>\n",
              "      <td>Online Shop</td>\n",
              "      <td>250000</td>\n",
              "      <td>210000</td>\n",
              "    </tr>\n",
              "    <tr>\n",
              "      <th>4</th>\n",
              "      <td>T-Shirts</td>\n",
              "      <td>Merchandise Store</td>\n",
              "      <td>200000</td>\n",
              "      <td>230000</td>\n",
              "    </tr>\n",
              "  </tbody>\n",
              "</table>\n",
              "</div>"
            ],
            "text/plain": [
              "       Product      Sales Channel  Revenue 2018  Revenue 2019\n",
              "0  Sweatshirts        Online Shop        100000        110000\n",
              "1  Sweetshirts  Merchandise Store        200000        210000\n",
              "2  Sweetshirts             Events         50000         48000\n",
              "3     T-Shirts        Online Shop        250000        210000\n",
              "4     T-Shirts  Merchandise Store        200000        230000"
            ]
          },
          "metadata": {
            "tags": []
          },
          "execution_count": 53
        }
      ]
    },
    {
      "cell_type": "code",
      "metadata": {
        "id": "tnD7W89QH_2U",
        "colab_type": "code",
        "outputId": "9ec2a67c-8d72-42c7-a5a4-6c4c2c0c4d5b",
        "colab": {
          "base_uri": "https://localhost:8080/",
          "height": 168
        }
      },
      "source": [
        "df.info()"
      ],
      "execution_count": 0,
      "outputs": [
        {
          "output_type": "stream",
          "text": [
            "<class 'pandas.core.frame.DataFrame'>\n",
            "RangeIndex: 15 entries, 0 to 14\n",
            "Data columns (total 4 columns):\n",
            "Product          15 non-null object\n",
            "Sales Channel    15 non-null object\n",
            "Revenue 2018     15 non-null int64\n",
            "Revenue 2019     15 non-null int64\n",
            "dtypes: int64(2), object(2)\n",
            "memory usage: 608.0+ bytes\n"
          ],
          "name": "stdout"
        }
      ]
    },
    {
      "cell_type": "markdown",
      "metadata": {
        "id": "pnlpeWloJJOA",
        "colab_type": "text"
      },
      "source": [
        "Pandas provides all kind of summary statistcs for performing exploratory data analysis:"
      ]
    },
    {
      "cell_type": "code",
      "metadata": {
        "id": "XUiV9mQGJQNg",
        "colab_type": "code",
        "outputId": "bf5666a3-495e-492e-8b19-bc9e352dd3d0",
        "colab": {
          "base_uri": "https://localhost:8080/",
          "height": 101
        }
      },
      "source": [
        "df.mean() # get mean for each variable in data frame\n",
        "df.corr() # returns the correlation between columns in a data frame\n",
        "df.count() # returns the number of non-null values in each data frame column\n",
        "df.std() # returns the standard deviation of each column\n",
        "df.median() # returns the median of each column\n",
        "df.max() # returns the highest value in each column\n",
        "df.min() # returns the lowest value in each colum\n"
      ],
      "execution_count": 0,
      "outputs": [
        {
          "output_type": "execute_result",
          "data": {
            "text/plain": [
              "Product          Coffee Cups\n",
              "Sales Channel         Events\n",
              "Revenue 2018             500\n",
              "Revenue 2019             100\n",
              "dtype: object"
            ]
          },
          "metadata": {
            "tags": []
          },
          "execution_count": 56
        }
      ]
    },
    {
      "cell_type": "markdown",
      "metadata": {
        "id": "Ei34Wqu8K17P",
        "colab_type": "text"
      },
      "source": [
        "# Adding and deleting new Features"
      ]
    },
    {
      "cell_type": "code",
      "metadata": {
        "id": "lIG6BstBK4pI",
        "colab_type": "code",
        "outputId": "b77ec81b-ba03-43de-c791-46d44deb10e0",
        "colab": {
          "base_uri": "https://localhost:8080/",
          "height": 195
        }
      },
      "source": [
        "df[\"Total Revenue\"] =  df[\"Revenue 2019\"] + df[\"Revenue 2018\"]\n",
        "df[\"Revenue Growth\"] = (df[\"Revenue 2019\"] / df[\"Revenue 2018\"])-1\n",
        "\n",
        "df.head()"
      ],
      "execution_count": 0,
      "outputs": [
        {
          "output_type": "execute_result",
          "data": {
            "text/html": [
              "<div>\n",
              "<style scoped>\n",
              "    .dataframe tbody tr th:only-of-type {\n",
              "        vertical-align: middle;\n",
              "    }\n",
              "\n",
              "    .dataframe tbody tr th {\n",
              "        vertical-align: top;\n",
              "    }\n",
              "\n",
              "    .dataframe thead th {\n",
              "        text-align: right;\n",
              "    }\n",
              "</style>\n",
              "<table border=\"1\" class=\"dataframe\">\n",
              "  <thead>\n",
              "    <tr style=\"text-align: right;\">\n",
              "      <th></th>\n",
              "      <th>Product</th>\n",
              "      <th>Sales Channel</th>\n",
              "      <th>Revenue 2018</th>\n",
              "      <th>Revenue 2019</th>\n",
              "      <th>Total Revenue</th>\n",
              "      <th>Revenue Growth</th>\n",
              "    </tr>\n",
              "  </thead>\n",
              "  <tbody>\n",
              "    <tr>\n",
              "      <th>0</th>\n",
              "      <td>Sweatshirts</td>\n",
              "      <td>Online Shop</td>\n",
              "      <td>100000</td>\n",
              "      <td>110000</td>\n",
              "      <td>210000</td>\n",
              "      <td>0.10</td>\n",
              "    </tr>\n",
              "    <tr>\n",
              "      <th>1</th>\n",
              "      <td>Sweetshirts</td>\n",
              "      <td>Merchandise Store</td>\n",
              "      <td>200000</td>\n",
              "      <td>210000</td>\n",
              "      <td>410000</td>\n",
              "      <td>0.05</td>\n",
              "    </tr>\n",
              "    <tr>\n",
              "      <th>2</th>\n",
              "      <td>Sweetshirts</td>\n",
              "      <td>Events</td>\n",
              "      <td>50000</td>\n",
              "      <td>48000</td>\n",
              "      <td>98000</td>\n",
              "      <td>-0.04</td>\n",
              "    </tr>\n",
              "    <tr>\n",
              "      <th>3</th>\n",
              "      <td>T-Shirts</td>\n",
              "      <td>Online Shop</td>\n",
              "      <td>250000</td>\n",
              "      <td>210000</td>\n",
              "      <td>460000</td>\n",
              "      <td>-0.16</td>\n",
              "    </tr>\n",
              "    <tr>\n",
              "      <th>4</th>\n",
              "      <td>T-Shirts</td>\n",
              "      <td>Merchandise Store</td>\n",
              "      <td>200000</td>\n",
              "      <td>230000</td>\n",
              "      <td>430000</td>\n",
              "      <td>0.15</td>\n",
              "    </tr>\n",
              "  </tbody>\n",
              "</table>\n",
              "</div>"
            ],
            "text/plain": [
              "       Product      Sales Channel  ...  Total Revenue  Revenue Growth\n",
              "0  Sweatshirts        Online Shop  ...         210000            0.10\n",
              "1  Sweetshirts  Merchandise Store  ...         410000            0.05\n",
              "2  Sweetshirts             Events  ...          98000           -0.04\n",
              "3     T-Shirts        Online Shop  ...         460000           -0.16\n",
              "4     T-Shirts  Merchandise Store  ...         430000            0.15\n",
              "\n",
              "[5 rows x 6 columns]"
            ]
          },
          "metadata": {
            "tags": []
          },
          "execution_count": 66
        }
      ]
    },
    {
      "cell_type": "code",
      "metadata": {
        "id": "yTAuoOMPMND6",
        "colab_type": "code",
        "outputId": "096d7ed7-cdf0-43c2-fad3-d1e294da9bce",
        "colab": {
          "base_uri": "https://localhost:8080/",
          "height": 195
        }
      },
      "source": [
        "del(df[\"Total Revenue\"])\n",
        "\n",
        "df.head()"
      ],
      "execution_count": 0,
      "outputs": [
        {
          "output_type": "execute_result",
          "data": {
            "text/html": [
              "<div>\n",
              "<style scoped>\n",
              "    .dataframe tbody tr th:only-of-type {\n",
              "        vertical-align: middle;\n",
              "    }\n",
              "\n",
              "    .dataframe tbody tr th {\n",
              "        vertical-align: top;\n",
              "    }\n",
              "\n",
              "    .dataframe thead th {\n",
              "        text-align: right;\n",
              "    }\n",
              "</style>\n",
              "<table border=\"1\" class=\"dataframe\">\n",
              "  <thead>\n",
              "    <tr style=\"text-align: right;\">\n",
              "      <th></th>\n",
              "      <th>Product</th>\n",
              "      <th>Sales Channel</th>\n",
              "      <th>Revenue 2018</th>\n",
              "      <th>Revenue 2019</th>\n",
              "      <th>Revenue Growth</th>\n",
              "    </tr>\n",
              "  </thead>\n",
              "  <tbody>\n",
              "    <tr>\n",
              "      <th>0</th>\n",
              "      <td>Sweatshirts</td>\n",
              "      <td>Online Shop</td>\n",
              "      <td>100000</td>\n",
              "      <td>110000</td>\n",
              "      <td>0.10</td>\n",
              "    </tr>\n",
              "    <tr>\n",
              "      <th>1</th>\n",
              "      <td>Sweetshirts</td>\n",
              "      <td>Merchandise Store</td>\n",
              "      <td>200000</td>\n",
              "      <td>210000</td>\n",
              "      <td>0.05</td>\n",
              "    </tr>\n",
              "    <tr>\n",
              "      <th>2</th>\n",
              "      <td>Sweetshirts</td>\n",
              "      <td>Events</td>\n",
              "      <td>50000</td>\n",
              "      <td>48000</td>\n",
              "      <td>-0.04</td>\n",
              "    </tr>\n",
              "    <tr>\n",
              "      <th>3</th>\n",
              "      <td>T-Shirts</td>\n",
              "      <td>Online Shop</td>\n",
              "      <td>250000</td>\n",
              "      <td>210000</td>\n",
              "      <td>-0.16</td>\n",
              "    </tr>\n",
              "    <tr>\n",
              "      <th>4</th>\n",
              "      <td>T-Shirts</td>\n",
              "      <td>Merchandise Store</td>\n",
              "      <td>200000</td>\n",
              "      <td>230000</td>\n",
              "      <td>0.15</td>\n",
              "    </tr>\n",
              "  </tbody>\n",
              "</table>\n",
              "</div>"
            ],
            "text/plain": [
              "       Product      Sales Channel  Revenue 2018  Revenue 2019  Revenue Growth\n",
              "0  Sweatshirts        Online Shop        100000        110000            0.10\n",
              "1  Sweetshirts  Merchandise Store        200000        210000            0.05\n",
              "2  Sweetshirts             Events         50000         48000           -0.04\n",
              "3     T-Shirts        Online Shop        250000        210000           -0.16\n",
              "4     T-Shirts  Merchandise Store        200000        230000            0.15"
            ]
          },
          "metadata": {
            "tags": []
          },
          "execution_count": 67
        }
      ]
    },
    {
      "cell_type": "code",
      "metadata": {
        "id": "fTA59ynES0V1",
        "colab_type": "code",
        "colab": {}
      },
      "source": [
        ""
      ],
      "execution_count": 0,
      "outputs": []
    },
    {
      "cell_type": "markdown",
      "metadata": {
        "id": "AHl1bk1INDNI",
        "colab_type": "text"
      },
      "source": [
        "# Selecting Data in Data Frames"
      ]
    },
    {
      "cell_type": "markdown",
      "metadata": {
        "id": "MBPlKXuBNIpo",
        "colab_type": "text"
      },
      "source": [
        "## integer-location based indexing (iloc)"
      ]
    },
    {
      "cell_type": "markdown",
      "metadata": {
        "id": "gSrYIf23NS1u",
        "colab_type": "text"
      },
      "source": [
        "### selecting rows"
      ]
    },
    {
      "cell_type": "code",
      "metadata": {
        "id": "r7PHxjgMNVdZ",
        "colab_type": "code",
        "outputId": "17f646ec-e9b0-44da-ee8f-697be28bdaf8",
        "colab": {
          "base_uri": "https://localhost:8080/",
          "height": 118
        }
      },
      "source": [
        "df.iloc[0] # get the first row of a data frame"
      ],
      "execution_count": 0,
      "outputs": [
        {
          "output_type": "execute_result",
          "data": {
            "text/plain": [
              "Product           Sweatshirts\n",
              "Sales Channel     Online Shop\n",
              "Revenue 2018           100000\n",
              "Revenue 2019           110000\n",
              "Revenue Growth            0.1\n",
              "Name: 0, dtype: object"
            ]
          },
          "metadata": {
            "tags": []
          },
          "execution_count": 68
        }
      ]
    },
    {
      "cell_type": "code",
      "metadata": {
        "id": "AeFT7vJeNnIO",
        "colab_type": "code",
        "outputId": "57f63717-cab7-4b5c-e74b-5cd902dcc7ab",
        "colab": {
          "base_uri": "https://localhost:8080/",
          "height": 166
        }
      },
      "source": [
        "df.iloc[[0,1,3,5]] # select row 1,2,4,6"
      ],
      "execution_count": 0,
      "outputs": [
        {
          "output_type": "execute_result",
          "data": {
            "text/html": [
              "<div>\n",
              "<style scoped>\n",
              "    .dataframe tbody tr th:only-of-type {\n",
              "        vertical-align: middle;\n",
              "    }\n",
              "\n",
              "    .dataframe tbody tr th {\n",
              "        vertical-align: top;\n",
              "    }\n",
              "\n",
              "    .dataframe thead th {\n",
              "        text-align: right;\n",
              "    }\n",
              "</style>\n",
              "<table border=\"1\" class=\"dataframe\">\n",
              "  <thead>\n",
              "    <tr style=\"text-align: right;\">\n",
              "      <th></th>\n",
              "      <th>Product</th>\n",
              "      <th>Sales Channel</th>\n",
              "      <th>Revenue 2018</th>\n",
              "      <th>Revenue 2019</th>\n",
              "      <th>Revenue Growth</th>\n",
              "    </tr>\n",
              "  </thead>\n",
              "  <tbody>\n",
              "    <tr>\n",
              "      <th>0</th>\n",
              "      <td>Sweatshirts</td>\n",
              "      <td>Online Shop</td>\n",
              "      <td>100000</td>\n",
              "      <td>110000</td>\n",
              "      <td>0.100000</td>\n",
              "    </tr>\n",
              "    <tr>\n",
              "      <th>1</th>\n",
              "      <td>Sweetshirts</td>\n",
              "      <td>Merchandise Store</td>\n",
              "      <td>200000</td>\n",
              "      <td>210000</td>\n",
              "      <td>0.050000</td>\n",
              "    </tr>\n",
              "    <tr>\n",
              "      <th>3</th>\n",
              "      <td>T-Shirts</td>\n",
              "      <td>Online Shop</td>\n",
              "      <td>250000</td>\n",
              "      <td>210000</td>\n",
              "      <td>-0.160000</td>\n",
              "    </tr>\n",
              "    <tr>\n",
              "      <th>5</th>\n",
              "      <td>T-Shirts</td>\n",
              "      <td>Events</td>\n",
              "      <td>130000</td>\n",
              "      <td>145000</td>\n",
              "      <td>0.115385</td>\n",
              "    </tr>\n",
              "  </tbody>\n",
              "</table>\n",
              "</div>"
            ],
            "text/plain": [
              "       Product      Sales Channel  Revenue 2018  Revenue 2019  Revenue Growth\n",
              "0  Sweatshirts        Online Shop        100000        110000        0.100000\n",
              "1  Sweetshirts  Merchandise Store        200000        210000        0.050000\n",
              "3     T-Shirts        Online Shop        250000        210000       -0.160000\n",
              "5     T-Shirts             Events        130000        145000        0.115385"
            ]
          },
          "metadata": {
            "tags": []
          },
          "execution_count": 70
        }
      ]
    },
    {
      "cell_type": "code",
      "metadata": {
        "id": "q4aWKihKOGrl",
        "colab_type": "code",
        "outputId": "25f66dcb-7937-4ed9-f753-f7ac710b1c0d",
        "colab": {
          "base_uri": "https://localhost:8080/",
          "height": 195
        }
      },
      "source": [
        "df.iloc[0:5]"
      ],
      "execution_count": 0,
      "outputs": [
        {
          "output_type": "execute_result",
          "data": {
            "text/html": [
              "<div>\n",
              "<style scoped>\n",
              "    .dataframe tbody tr th:only-of-type {\n",
              "        vertical-align: middle;\n",
              "    }\n",
              "\n",
              "    .dataframe tbody tr th {\n",
              "        vertical-align: top;\n",
              "    }\n",
              "\n",
              "    .dataframe thead th {\n",
              "        text-align: right;\n",
              "    }\n",
              "</style>\n",
              "<table border=\"1\" class=\"dataframe\">\n",
              "  <thead>\n",
              "    <tr style=\"text-align: right;\">\n",
              "      <th></th>\n",
              "      <th>Product</th>\n",
              "      <th>Sales Channel</th>\n",
              "      <th>Revenue 2018</th>\n",
              "      <th>Revenue 2019</th>\n",
              "      <th>Revenue Growth</th>\n",
              "    </tr>\n",
              "  </thead>\n",
              "  <tbody>\n",
              "    <tr>\n",
              "      <th>0</th>\n",
              "      <td>Sweatshirts</td>\n",
              "      <td>Online Shop</td>\n",
              "      <td>100000</td>\n",
              "      <td>110000</td>\n",
              "      <td>0.10</td>\n",
              "    </tr>\n",
              "    <tr>\n",
              "      <th>1</th>\n",
              "      <td>Sweetshirts</td>\n",
              "      <td>Merchandise Store</td>\n",
              "      <td>200000</td>\n",
              "      <td>210000</td>\n",
              "      <td>0.05</td>\n",
              "    </tr>\n",
              "    <tr>\n",
              "      <th>2</th>\n",
              "      <td>Sweetshirts</td>\n",
              "      <td>Events</td>\n",
              "      <td>50000</td>\n",
              "      <td>48000</td>\n",
              "      <td>-0.04</td>\n",
              "    </tr>\n",
              "    <tr>\n",
              "      <th>3</th>\n",
              "      <td>T-Shirts</td>\n",
              "      <td>Online Shop</td>\n",
              "      <td>250000</td>\n",
              "      <td>210000</td>\n",
              "      <td>-0.16</td>\n",
              "    </tr>\n",
              "    <tr>\n",
              "      <th>4</th>\n",
              "      <td>T-Shirts</td>\n",
              "      <td>Merchandise Store</td>\n",
              "      <td>200000</td>\n",
              "      <td>230000</td>\n",
              "      <td>0.15</td>\n",
              "    </tr>\n",
              "  </tbody>\n",
              "</table>\n",
              "</div>"
            ],
            "text/plain": [
              "       Product      Sales Channel  Revenue 2018  Revenue 2019  Revenue Growth\n",
              "0  Sweatshirts        Online Shop        100000        110000            0.10\n",
              "1  Sweetshirts  Merchandise Store        200000        210000            0.05\n",
              "2  Sweetshirts             Events         50000         48000           -0.04\n",
              "3     T-Shirts        Online Shop        250000        210000           -0.16\n",
              "4     T-Shirts  Merchandise Store        200000        230000            0.15"
            ]
          },
          "metadata": {
            "tags": []
          },
          "execution_count": 71
        }
      ]
    },
    {
      "cell_type": "markdown",
      "metadata": {
        "id": "IrM9bWpnOnUF",
        "colab_type": "text"
      },
      "source": [
        "### Selecting columns"
      ]
    },
    {
      "cell_type": "code",
      "metadata": {
        "id": "w5TlcQYUOpk2",
        "colab_type": "code",
        "outputId": "967495b7-fddf-4231-92a0-3e7b375645a5",
        "colab": {
          "base_uri": "https://localhost:8080/",
          "height": 286
        }
      },
      "source": [
        "df.iloc[:,0] # selects the first column; \":\" indicates to use all rows"
      ],
      "execution_count": 0,
      "outputs": [
        {
          "output_type": "execute_result",
          "data": {
            "text/plain": [
              "0     Sweatshirts\n",
              "1     Sweetshirts\n",
              "2     Sweetshirts\n",
              "3        T-Shirts\n",
              "4        T-Shirts\n",
              "5        T-Shirts\n",
              "6     Polo Shirts\n",
              "7     Polo Shirts\n",
              "8     Polo Shirts\n",
              "9     Coffee Cups\n",
              "10    Coffee Cups\n",
              "11    Coffee Cups\n",
              "12    SIG Bottles\n",
              "13    SIG Bottles\n",
              "14    SIG Bottles\n",
              "Name: Product, dtype: object"
            ]
          },
          "metadata": {
            "tags": []
          },
          "execution_count": 74
        }
      ]
    },
    {
      "cell_type": "code",
      "metadata": {
        "id": "VQInc3b0QXOu",
        "colab_type": "code",
        "outputId": "74ea9f91-98cc-4666-fc16-51cf02e3d7e0",
        "colab": {
          "base_uri": "https://localhost:8080/",
          "height": 491
        }
      },
      "source": [
        "df.iloc[:,[1,3]] # select 2nd and 4th columns"
      ],
      "execution_count": 0,
      "outputs": [
        {
          "output_type": "execute_result",
          "data": {
            "text/html": [
              "<div>\n",
              "<style scoped>\n",
              "    .dataframe tbody tr th:only-of-type {\n",
              "        vertical-align: middle;\n",
              "    }\n",
              "\n",
              "    .dataframe tbody tr th {\n",
              "        vertical-align: top;\n",
              "    }\n",
              "\n",
              "    .dataframe thead th {\n",
              "        text-align: right;\n",
              "    }\n",
              "</style>\n",
              "<table border=\"1\" class=\"dataframe\">\n",
              "  <thead>\n",
              "    <tr style=\"text-align: right;\">\n",
              "      <th></th>\n",
              "      <th>Sales Channel</th>\n",
              "      <th>Revenue 2019</th>\n",
              "    </tr>\n",
              "  </thead>\n",
              "  <tbody>\n",
              "    <tr>\n",
              "      <th>0</th>\n",
              "      <td>Online Shop</td>\n",
              "      <td>110000</td>\n",
              "    </tr>\n",
              "    <tr>\n",
              "      <th>1</th>\n",
              "      <td>Merchandise Store</td>\n",
              "      <td>210000</td>\n",
              "    </tr>\n",
              "    <tr>\n",
              "      <th>2</th>\n",
              "      <td>Events</td>\n",
              "      <td>48000</td>\n",
              "    </tr>\n",
              "    <tr>\n",
              "      <th>3</th>\n",
              "      <td>Online Shop</td>\n",
              "      <td>210000</td>\n",
              "    </tr>\n",
              "    <tr>\n",
              "      <th>4</th>\n",
              "      <td>Merchandise Store</td>\n",
              "      <td>230000</td>\n",
              "    </tr>\n",
              "    <tr>\n",
              "      <th>5</th>\n",
              "      <td>Events</td>\n",
              "      <td>145000</td>\n",
              "    </tr>\n",
              "    <tr>\n",
              "      <th>6</th>\n",
              "      <td>Online Shop</td>\n",
              "      <td>201000</td>\n",
              "    </tr>\n",
              "    <tr>\n",
              "      <th>7</th>\n",
              "      <td>Merchandise Store</td>\n",
              "      <td>300000</td>\n",
              "    </tr>\n",
              "    <tr>\n",
              "      <th>8</th>\n",
              "      <td>Events</td>\n",
              "      <td>287000</td>\n",
              "    </tr>\n",
              "    <tr>\n",
              "      <th>9</th>\n",
              "      <td>Online Shop</td>\n",
              "      <td>5000</td>\n",
              "    </tr>\n",
              "    <tr>\n",
              "      <th>10</th>\n",
              "      <td>Merchandise Store</td>\n",
              "      <td>25000</td>\n",
              "    </tr>\n",
              "    <tr>\n",
              "      <th>11</th>\n",
              "      <td>Events</td>\n",
              "      <td>900</td>\n",
              "    </tr>\n",
              "    <tr>\n",
              "      <th>12</th>\n",
              "      <td>Online Shop</td>\n",
              "      <td>2700</td>\n",
              "    </tr>\n",
              "    <tr>\n",
              "      <th>13</th>\n",
              "      <td>Merchandise Store</td>\n",
              "      <td>1500</td>\n",
              "    </tr>\n",
              "    <tr>\n",
              "      <th>14</th>\n",
              "      <td>Events</td>\n",
              "      <td>100</td>\n",
              "    </tr>\n",
              "  </tbody>\n",
              "</table>\n",
              "</div>"
            ],
            "text/plain": [
              "        Sales Channel  Revenue 2019\n",
              "0         Online Shop        110000\n",
              "1   Merchandise Store        210000\n",
              "2              Events         48000\n",
              "3         Online Shop        210000\n",
              "4   Merchandise Store        230000\n",
              "5              Events        145000\n",
              "6         Online Shop        201000\n",
              "7   Merchandise Store        300000\n",
              "8              Events        287000\n",
              "9         Online Shop          5000\n",
              "10  Merchandise Store         25000\n",
              "11             Events           900\n",
              "12        Online Shop          2700\n",
              "13  Merchandise Store          1500\n",
              "14             Events           100"
            ]
          },
          "metadata": {
            "tags": []
          },
          "execution_count": 75
        }
      ]
    },
    {
      "cell_type": "code",
      "metadata": {
        "id": "-yObeX8-Qk7C",
        "colab_type": "code",
        "outputId": "34ee202a-31d5-43c1-8553-9dcfe11214bb",
        "colab": {
          "base_uri": "https://localhost:8080/",
          "height": 491
        }
      },
      "source": [
        "df.iloc[:,0:2]"
      ],
      "execution_count": 0,
      "outputs": [
        {
          "output_type": "execute_result",
          "data": {
            "text/html": [
              "<div>\n",
              "<style scoped>\n",
              "    .dataframe tbody tr th:only-of-type {\n",
              "        vertical-align: middle;\n",
              "    }\n",
              "\n",
              "    .dataframe tbody tr th {\n",
              "        vertical-align: top;\n",
              "    }\n",
              "\n",
              "    .dataframe thead th {\n",
              "        text-align: right;\n",
              "    }\n",
              "</style>\n",
              "<table border=\"1\" class=\"dataframe\">\n",
              "  <thead>\n",
              "    <tr style=\"text-align: right;\">\n",
              "      <th></th>\n",
              "      <th>Product</th>\n",
              "      <th>Sales Channel</th>\n",
              "    </tr>\n",
              "  </thead>\n",
              "  <tbody>\n",
              "    <tr>\n",
              "      <th>0</th>\n",
              "      <td>Sweatshirts</td>\n",
              "      <td>Online Shop</td>\n",
              "    </tr>\n",
              "    <tr>\n",
              "      <th>1</th>\n",
              "      <td>Sweetshirts</td>\n",
              "      <td>Merchandise Store</td>\n",
              "    </tr>\n",
              "    <tr>\n",
              "      <th>2</th>\n",
              "      <td>Sweetshirts</td>\n",
              "      <td>Events</td>\n",
              "    </tr>\n",
              "    <tr>\n",
              "      <th>3</th>\n",
              "      <td>T-Shirts</td>\n",
              "      <td>Online Shop</td>\n",
              "    </tr>\n",
              "    <tr>\n",
              "      <th>4</th>\n",
              "      <td>T-Shirts</td>\n",
              "      <td>Merchandise Store</td>\n",
              "    </tr>\n",
              "    <tr>\n",
              "      <th>5</th>\n",
              "      <td>T-Shirts</td>\n",
              "      <td>Events</td>\n",
              "    </tr>\n",
              "    <tr>\n",
              "      <th>6</th>\n",
              "      <td>Polo Shirts</td>\n",
              "      <td>Online Shop</td>\n",
              "    </tr>\n",
              "    <tr>\n",
              "      <th>7</th>\n",
              "      <td>Polo Shirts</td>\n",
              "      <td>Merchandise Store</td>\n",
              "    </tr>\n",
              "    <tr>\n",
              "      <th>8</th>\n",
              "      <td>Polo Shirts</td>\n",
              "      <td>Events</td>\n",
              "    </tr>\n",
              "    <tr>\n",
              "      <th>9</th>\n",
              "      <td>Coffee Cups</td>\n",
              "      <td>Online Shop</td>\n",
              "    </tr>\n",
              "    <tr>\n",
              "      <th>10</th>\n",
              "      <td>Coffee Cups</td>\n",
              "      <td>Merchandise Store</td>\n",
              "    </tr>\n",
              "    <tr>\n",
              "      <th>11</th>\n",
              "      <td>Coffee Cups</td>\n",
              "      <td>Events</td>\n",
              "    </tr>\n",
              "    <tr>\n",
              "      <th>12</th>\n",
              "      <td>SIG Bottles</td>\n",
              "      <td>Online Shop</td>\n",
              "    </tr>\n",
              "    <tr>\n",
              "      <th>13</th>\n",
              "      <td>SIG Bottles</td>\n",
              "      <td>Merchandise Store</td>\n",
              "    </tr>\n",
              "    <tr>\n",
              "      <th>14</th>\n",
              "      <td>SIG Bottles</td>\n",
              "      <td>Events</td>\n",
              "    </tr>\n",
              "  </tbody>\n",
              "</table>\n",
              "</div>"
            ],
            "text/plain": [
              "        Product      Sales Channel\n",
              "0   Sweatshirts        Online Shop\n",
              "1   Sweetshirts  Merchandise Store\n",
              "2   Sweetshirts             Events\n",
              "3      T-Shirts        Online Shop\n",
              "4      T-Shirts  Merchandise Store\n",
              "5      T-Shirts             Events\n",
              "6   Polo Shirts        Online Shop\n",
              "7   Polo Shirts  Merchandise Store\n",
              "8   Polo Shirts             Events\n",
              "9   Coffee Cups        Online Shop\n",
              "10  Coffee Cups  Merchandise Store\n",
              "11  Coffee Cups             Events\n",
              "12  SIG Bottles        Online Shop\n",
              "13  SIG Bottles  Merchandise Store\n",
              "14  SIG Bottles             Events"
            ]
          },
          "metadata": {
            "tags": []
          },
          "execution_count": 76
        }
      ]
    },
    {
      "cell_type": "markdown",
      "metadata": {
        "id": "a_UV3mJ-Q2vU",
        "colab_type": "text"
      },
      "source": [
        "## Selecting rows and columns"
      ]
    },
    {
      "cell_type": "code",
      "metadata": {
        "id": "pWYz8Dn2Q5wu",
        "colab_type": "code",
        "outputId": "a5ef72a4-a0de-4f81-b9ab-49bfee0a2b27",
        "colab": {
          "base_uri": "https://localhost:8080/",
          "height": 166
        }
      },
      "source": [
        "df.iloc[0:4,[0,3]] # we get the first four rows and column 1 and 4"
      ],
      "execution_count": 0,
      "outputs": [
        {
          "output_type": "execute_result",
          "data": {
            "text/html": [
              "<div>\n",
              "<style scoped>\n",
              "    .dataframe tbody tr th:only-of-type {\n",
              "        vertical-align: middle;\n",
              "    }\n",
              "\n",
              "    .dataframe tbody tr th {\n",
              "        vertical-align: top;\n",
              "    }\n",
              "\n",
              "    .dataframe thead th {\n",
              "        text-align: right;\n",
              "    }\n",
              "</style>\n",
              "<table border=\"1\" class=\"dataframe\">\n",
              "  <thead>\n",
              "    <tr style=\"text-align: right;\">\n",
              "      <th></th>\n",
              "      <th>Product</th>\n",
              "      <th>Revenue 2019</th>\n",
              "    </tr>\n",
              "  </thead>\n",
              "  <tbody>\n",
              "    <tr>\n",
              "      <th>0</th>\n",
              "      <td>Sweatshirts</td>\n",
              "      <td>110000</td>\n",
              "    </tr>\n",
              "    <tr>\n",
              "      <th>1</th>\n",
              "      <td>Sweetshirts</td>\n",
              "      <td>210000</td>\n",
              "    </tr>\n",
              "    <tr>\n",
              "      <th>2</th>\n",
              "      <td>Sweetshirts</td>\n",
              "      <td>48000</td>\n",
              "    </tr>\n",
              "    <tr>\n",
              "      <th>3</th>\n",
              "      <td>T-Shirts</td>\n",
              "      <td>210000</td>\n",
              "    </tr>\n",
              "  </tbody>\n",
              "</table>\n",
              "</div>"
            ],
            "text/plain": [
              "       Product  Revenue 2019\n",
              "0  Sweatshirts        110000\n",
              "1  Sweetshirts        210000\n",
              "2  Sweetshirts         48000\n",
              "3     T-Shirts        210000"
            ]
          },
          "metadata": {
            "tags": []
          },
          "execution_count": 77
        }
      ]
    },
    {
      "cell_type": "markdown",
      "metadata": {
        "id": "BKKmPANvRR20",
        "colab_type": "text"
      },
      "source": [
        "## Summary\n",
        "\n",
        "Using the iloc, we can directly select rows and numbers of within our DataFrame. \n",
        "\n",
        "The logic is always: \n",
        "\n",
        "**df.iloc [ \"row selection\" , \"column selection\" ]**"
      ]
    },
    {
      "cell_type": "markdown",
      "metadata": {
        "id": "-biA0zeTR4bC",
        "colab_type": "text"
      },
      "source": [
        "# Location-based indexing (loc)\n",
        "\n",
        "Selecting data based on .loc, works very similar to the .iloc method. The only difference is that we can use the names of the variables.\n",
        "\n"
      ]
    },
    {
      "cell_type": "code",
      "metadata": {
        "id": "QStCTJ8MSHW3",
        "colab_type": "code",
        "outputId": "adb5eb89-be78-4807-f83a-262cdf5b9116",
        "colab": {
          "base_uri": "https://localhost:8080/",
          "height": 195
        }
      },
      "source": [
        "df.head()"
      ],
      "execution_count": 0,
      "outputs": [
        {
          "output_type": "execute_result",
          "data": {
            "text/html": [
              "<div>\n",
              "<style scoped>\n",
              "    .dataframe tbody tr th:only-of-type {\n",
              "        vertical-align: middle;\n",
              "    }\n",
              "\n",
              "    .dataframe tbody tr th {\n",
              "        vertical-align: top;\n",
              "    }\n",
              "\n",
              "    .dataframe thead th {\n",
              "        text-align: right;\n",
              "    }\n",
              "</style>\n",
              "<table border=\"1\" class=\"dataframe\">\n",
              "  <thead>\n",
              "    <tr style=\"text-align: right;\">\n",
              "      <th></th>\n",
              "      <th>Product</th>\n",
              "      <th>Sales Channel</th>\n",
              "      <th>Revenue 2018</th>\n",
              "      <th>Revenue 2019</th>\n",
              "      <th>Revenue Growth</th>\n",
              "    </tr>\n",
              "  </thead>\n",
              "  <tbody>\n",
              "    <tr>\n",
              "      <th>0</th>\n",
              "      <td>Sweatshirts</td>\n",
              "      <td>Online Shop</td>\n",
              "      <td>100000</td>\n",
              "      <td>110000</td>\n",
              "      <td>0.10</td>\n",
              "    </tr>\n",
              "    <tr>\n",
              "      <th>1</th>\n",
              "      <td>Sweetshirts</td>\n",
              "      <td>Merchandise Store</td>\n",
              "      <td>200000</td>\n",
              "      <td>210000</td>\n",
              "      <td>0.05</td>\n",
              "    </tr>\n",
              "    <tr>\n",
              "      <th>2</th>\n",
              "      <td>Sweetshirts</td>\n",
              "      <td>Events</td>\n",
              "      <td>50000</td>\n",
              "      <td>48000</td>\n",
              "      <td>-0.04</td>\n",
              "    </tr>\n",
              "    <tr>\n",
              "      <th>3</th>\n",
              "      <td>T-Shirts</td>\n",
              "      <td>Online Shop</td>\n",
              "      <td>250000</td>\n",
              "      <td>210000</td>\n",
              "      <td>-0.16</td>\n",
              "    </tr>\n",
              "    <tr>\n",
              "      <th>4</th>\n",
              "      <td>T-Shirts</td>\n",
              "      <td>Merchandise Store</td>\n",
              "      <td>200000</td>\n",
              "      <td>230000</td>\n",
              "      <td>0.15</td>\n",
              "    </tr>\n",
              "  </tbody>\n",
              "</table>\n",
              "</div>"
            ],
            "text/plain": [
              "       Product      Sales Channel  Revenue 2018  Revenue 2019  Revenue Growth\n",
              "0  Sweatshirts        Online Shop        100000        110000            0.10\n",
              "1  Sweetshirts  Merchandise Store        200000        210000            0.05\n",
              "2  Sweetshirts             Events         50000         48000           -0.04\n",
              "3     T-Shirts        Online Shop        250000        210000           -0.16\n",
              "4     T-Shirts  Merchandise Store        200000        230000            0.15"
            ]
          },
          "metadata": {
            "tags": []
          },
          "execution_count": 78
        }
      ]
    },
    {
      "cell_type": "code",
      "metadata": {
        "id": "-elcey0bSfqc",
        "colab_type": "code",
        "outputId": "2375dac8-46ab-435a-9b41-c52bfb9ee73f",
        "colab": {
          "base_uri": "https://localhost:8080/",
          "height": 166
        }
      },
      "source": [
        "df.loc[0:3,[\"Revenue 2018\", \"Revenue 2019\"]] "
      ],
      "execution_count": 0,
      "outputs": [
        {
          "output_type": "execute_result",
          "data": {
            "text/html": [
              "<div>\n",
              "<style scoped>\n",
              "    .dataframe tbody tr th:only-of-type {\n",
              "        vertical-align: middle;\n",
              "    }\n",
              "\n",
              "    .dataframe tbody tr th {\n",
              "        vertical-align: top;\n",
              "    }\n",
              "\n",
              "    .dataframe thead th {\n",
              "        text-align: right;\n",
              "    }\n",
              "</style>\n",
              "<table border=\"1\" class=\"dataframe\">\n",
              "  <thead>\n",
              "    <tr style=\"text-align: right;\">\n",
              "      <th></th>\n",
              "      <th>Revenue 2018</th>\n",
              "      <th>Revenue 2019</th>\n",
              "    </tr>\n",
              "  </thead>\n",
              "  <tbody>\n",
              "    <tr>\n",
              "      <th>0</th>\n",
              "      <td>100000</td>\n",
              "      <td>110000</td>\n",
              "    </tr>\n",
              "    <tr>\n",
              "      <th>1</th>\n",
              "      <td>200000</td>\n",
              "      <td>210000</td>\n",
              "    </tr>\n",
              "    <tr>\n",
              "      <th>2</th>\n",
              "      <td>50000</td>\n",
              "      <td>48000</td>\n",
              "    </tr>\n",
              "    <tr>\n",
              "      <th>3</th>\n",
              "      <td>250000</td>\n",
              "      <td>210000</td>\n",
              "    </tr>\n",
              "  </tbody>\n",
              "</table>\n",
              "</div>"
            ],
            "text/plain": [
              "   Revenue 2018  Revenue 2019\n",
              "0        100000        110000\n",
              "1        200000        210000\n",
              "2         50000         48000\n",
              "3        250000        210000"
            ]
          },
          "metadata": {
            "tags": []
          },
          "execution_count": 83
        }
      ]
    },
    {
      "cell_type": "markdown",
      "metadata": {
        "id": "MPc682mET5Hh",
        "colab_type": "text"
      },
      "source": [
        "# Boolean Indexing \n",
        "\n",
        "Using the .loc method, we can select data based on certain conditions. This is called boolean indexing.\n",
        "\n",
        "Some Boolean Operators are:\n",
        "\n",
        "- greater than   >\n",
        "- smaller than   <\n",
        "- equals         ==\n",
        "- does not equal !=\n"
      ]
    },
    {
      "cell_type": "code",
      "metadata": {
        "id": "bGHpwZxoUPxM",
        "colab_type": "code",
        "outputId": "4174d20f-4d2b-4136-a3f6-4f911e822c61",
        "colab": {
          "base_uri": "https://localhost:8080/",
          "height": 67
        }
      },
      "source": [
        "print(5 > 3)\n",
        "print(5 == 3)\n",
        "print(5 != 3)"
      ],
      "execution_count": 0,
      "outputs": [
        {
          "output_type": "stream",
          "text": [
            "True\n",
            "False\n",
            "True\n"
          ],
          "name": "stdout"
        }
      ]
    },
    {
      "cell_type": "code",
      "metadata": {
        "id": "bUtFa8B_Uqqi",
        "colab_type": "code",
        "outputId": "ac31222b-8572-410f-a7af-e6931a344497",
        "colab": {
          "base_uri": "https://localhost:8080/",
          "height": 314
        }
      },
      "source": [
        "df.loc[df[\"Revenue 2018\"] > 25000,]"
      ],
      "execution_count": 0,
      "outputs": [
        {
          "output_type": "execute_result",
          "data": {
            "text/html": [
              "<div>\n",
              "<style scoped>\n",
              "    .dataframe tbody tr th:only-of-type {\n",
              "        vertical-align: middle;\n",
              "    }\n",
              "\n",
              "    .dataframe tbody tr th {\n",
              "        vertical-align: top;\n",
              "    }\n",
              "\n",
              "    .dataframe thead th {\n",
              "        text-align: right;\n",
              "    }\n",
              "</style>\n",
              "<table border=\"1\" class=\"dataframe\">\n",
              "  <thead>\n",
              "    <tr style=\"text-align: right;\">\n",
              "      <th></th>\n",
              "      <th>Product</th>\n",
              "      <th>Sales Channel</th>\n",
              "      <th>Revenue 2018</th>\n",
              "      <th>Revenue 2019</th>\n",
              "      <th>Revenue Growth</th>\n",
              "    </tr>\n",
              "  </thead>\n",
              "  <tbody>\n",
              "    <tr>\n",
              "      <th>0</th>\n",
              "      <td>Sweatshirts</td>\n",
              "      <td>Online Shop</td>\n",
              "      <td>100000</td>\n",
              "      <td>110000</td>\n",
              "      <td>0.100000</td>\n",
              "    </tr>\n",
              "    <tr>\n",
              "      <th>1</th>\n",
              "      <td>Sweetshirts</td>\n",
              "      <td>Merchandise Store</td>\n",
              "      <td>200000</td>\n",
              "      <td>210000</td>\n",
              "      <td>0.050000</td>\n",
              "    </tr>\n",
              "    <tr>\n",
              "      <th>2</th>\n",
              "      <td>Sweetshirts</td>\n",
              "      <td>Events</td>\n",
              "      <td>50000</td>\n",
              "      <td>48000</td>\n",
              "      <td>-0.040000</td>\n",
              "    </tr>\n",
              "    <tr>\n",
              "      <th>3</th>\n",
              "      <td>T-Shirts</td>\n",
              "      <td>Online Shop</td>\n",
              "      <td>250000</td>\n",
              "      <td>210000</td>\n",
              "      <td>-0.160000</td>\n",
              "    </tr>\n",
              "    <tr>\n",
              "      <th>4</th>\n",
              "      <td>T-Shirts</td>\n",
              "      <td>Merchandise Store</td>\n",
              "      <td>200000</td>\n",
              "      <td>230000</td>\n",
              "      <td>0.150000</td>\n",
              "    </tr>\n",
              "    <tr>\n",
              "      <th>5</th>\n",
              "      <td>T-Shirts</td>\n",
              "      <td>Events</td>\n",
              "      <td>130000</td>\n",
              "      <td>145000</td>\n",
              "      <td>0.115385</td>\n",
              "    </tr>\n",
              "    <tr>\n",
              "      <th>6</th>\n",
              "      <td>Polo Shirts</td>\n",
              "      <td>Online Shop</td>\n",
              "      <td>190000</td>\n",
              "      <td>201000</td>\n",
              "      <td>0.057895</td>\n",
              "    </tr>\n",
              "    <tr>\n",
              "      <th>7</th>\n",
              "      <td>Polo Shirts</td>\n",
              "      <td>Merchandise Store</td>\n",
              "      <td>270000</td>\n",
              "      <td>300000</td>\n",
              "      <td>0.111111</td>\n",
              "    </tr>\n",
              "    <tr>\n",
              "      <th>8</th>\n",
              "      <td>Polo Shirts</td>\n",
              "      <td>Events</td>\n",
              "      <td>200000</td>\n",
              "      <td>287000</td>\n",
              "      <td>0.435000</td>\n",
              "    </tr>\n",
              "  </tbody>\n",
              "</table>\n",
              "</div>"
            ],
            "text/plain": [
              "       Product      Sales Channel  Revenue 2018  Revenue 2019  Revenue Growth\n",
              "0  Sweatshirts        Online Shop        100000        110000        0.100000\n",
              "1  Sweetshirts  Merchandise Store        200000        210000        0.050000\n",
              "2  Sweetshirts             Events         50000         48000       -0.040000\n",
              "3     T-Shirts        Online Shop        250000        210000       -0.160000\n",
              "4     T-Shirts  Merchandise Store        200000        230000        0.150000\n",
              "5     T-Shirts             Events        130000        145000        0.115385\n",
              "6  Polo Shirts        Online Shop        190000        201000        0.057895\n",
              "7  Polo Shirts  Merchandise Store        270000        300000        0.111111\n",
              "8  Polo Shirts             Events        200000        287000        0.435000"
            ]
          },
          "metadata": {
            "tags": []
          },
          "execution_count": 89
        }
      ]
    },
    {
      "cell_type": "markdown",
      "metadata": {
        "id": "xfWjj6Z3WdeP",
        "colab_type": "text"
      },
      "source": [
        "AND / OR Operators"
      ]
    },
    {
      "cell_type": "code",
      "metadata": {
        "id": "lKFhvaqlWf7G",
        "colab_type": "code",
        "outputId": "1eba9c45-9b8c-400f-c69c-0058ca86b290",
        "colab": {
          "base_uri": "https://localhost:8080/",
          "height": 34
        }
      },
      "source": [
        "(5 > 3) & (5 == 3) # AND-Operators return True if all conditions are True"
      ],
      "execution_count": 0,
      "outputs": [
        {
          "output_type": "execute_result",
          "data": {
            "text/plain": [
              "False"
            ]
          },
          "metadata": {
            "tags": []
          },
          "execution_count": 94
        }
      ]
    },
    {
      "cell_type": "code",
      "metadata": {
        "id": "cfb11_uIXDsH",
        "colab_type": "code",
        "outputId": "8b2ecabf-4697-4cd5-dd20-ddeced3c4da8",
        "colab": {
          "base_uri": "https://localhost:8080/",
          "height": 34
        }
      },
      "source": [
        "(5 > 3) | (5 == 3) # OR-Operators return True if one of the conditions is True"
      ],
      "execution_count": 0,
      "outputs": [
        {
          "output_type": "execute_result",
          "data": {
            "text/plain": [
              "True"
            ]
          },
          "metadata": {
            "tags": []
          },
          "execution_count": 95
        }
      ]
    },
    {
      "cell_type": "code",
      "metadata": {
        "id": "Tne72P4rXqJD",
        "colab_type": "code",
        "outputId": "48a9bc3d-9724-41b3-8a9b-ff9c0a35b097",
        "colab": {
          "base_uri": "https://localhost:8080/",
          "height": 254
        }
      },
      "source": [
        "df.loc[ (df[\"Revenue Growth\"] > 0) & (df[\"Product\"] != \"Sweatshirts\") & (df[\"Product\"] != \"Sweetshirts\"),]"
      ],
      "execution_count": 0,
      "outputs": [
        {
          "output_type": "execute_result",
          "data": {
            "text/html": [
              "<div>\n",
              "<style scoped>\n",
              "    .dataframe tbody tr th:only-of-type {\n",
              "        vertical-align: middle;\n",
              "    }\n",
              "\n",
              "    .dataframe tbody tr th {\n",
              "        vertical-align: top;\n",
              "    }\n",
              "\n",
              "    .dataframe thead th {\n",
              "        text-align: right;\n",
              "    }\n",
              "</style>\n",
              "<table border=\"1\" class=\"dataframe\">\n",
              "  <thead>\n",
              "    <tr style=\"text-align: right;\">\n",
              "      <th></th>\n",
              "      <th>Product</th>\n",
              "      <th>Sales Channel</th>\n",
              "      <th>Revenue 2018</th>\n",
              "      <th>Revenue 2019</th>\n",
              "      <th>Revenue Growth</th>\n",
              "    </tr>\n",
              "  </thead>\n",
              "  <tbody>\n",
              "    <tr>\n",
              "      <th>4</th>\n",
              "      <td>T-Shirts</td>\n",
              "      <td>Merchandise Store</td>\n",
              "      <td>200000</td>\n",
              "      <td>230000</td>\n",
              "      <td>0.150000</td>\n",
              "    </tr>\n",
              "    <tr>\n",
              "      <th>5</th>\n",
              "      <td>T-Shirts</td>\n",
              "      <td>Events</td>\n",
              "      <td>130000</td>\n",
              "      <td>145000</td>\n",
              "      <td>0.115385</td>\n",
              "    </tr>\n",
              "    <tr>\n",
              "      <th>6</th>\n",
              "      <td>Polo Shirts</td>\n",
              "      <td>Online Shop</td>\n",
              "      <td>190000</td>\n",
              "      <td>201000</td>\n",
              "      <td>0.057895</td>\n",
              "    </tr>\n",
              "    <tr>\n",
              "      <th>7</th>\n",
              "      <td>Polo Shirts</td>\n",
              "      <td>Merchandise Store</td>\n",
              "      <td>270000</td>\n",
              "      <td>300000</td>\n",
              "      <td>0.111111</td>\n",
              "    </tr>\n",
              "    <tr>\n",
              "      <th>8</th>\n",
              "      <td>Polo Shirts</td>\n",
              "      <td>Events</td>\n",
              "      <td>200000</td>\n",
              "      <td>287000</td>\n",
              "      <td>0.435000</td>\n",
              "    </tr>\n",
              "    <tr>\n",
              "      <th>10</th>\n",
              "      <td>Coffee Cups</td>\n",
              "      <td>Merchandise Store</td>\n",
              "      <td>20000</td>\n",
              "      <td>25000</td>\n",
              "      <td>0.250000</td>\n",
              "    </tr>\n",
              "    <tr>\n",
              "      <th>13</th>\n",
              "      <td>SIG Bottles</td>\n",
              "      <td>Merchandise Store</td>\n",
              "      <td>1000</td>\n",
              "      <td>1500</td>\n",
              "      <td>0.500000</td>\n",
              "    </tr>\n",
              "  </tbody>\n",
              "</table>\n",
              "</div>"
            ],
            "text/plain": [
              "        Product      Sales Channel  Revenue 2018  Revenue 2019  Revenue Growth\n",
              "4      T-Shirts  Merchandise Store        200000        230000        0.150000\n",
              "5      T-Shirts             Events        130000        145000        0.115385\n",
              "6   Polo Shirts        Online Shop        190000        201000        0.057895\n",
              "7   Polo Shirts  Merchandise Store        270000        300000        0.111111\n",
              "8   Polo Shirts             Events        200000        287000        0.435000\n",
              "10  Coffee Cups  Merchandise Store         20000         25000        0.250000\n",
              "13  SIG Bottles  Merchandise Store          1000          1500        0.500000"
            ]
          },
          "metadata": {
            "tags": []
          },
          "execution_count": 98
        }
      ]
    },
    {
      "cell_type": "markdown",
      "metadata": {
        "id": "GJWK6KAKY6re",
        "colab_type": "text"
      },
      "source": [
        "# Basic Plotting with Pandas"
      ]
    },
    {
      "cell_type": "code",
      "metadata": {
        "id": "4UessurzY-EC",
        "colab_type": "code",
        "outputId": "8a29e417-99c8-41e5-f487-62e53efa4867",
        "colab": {
          "base_uri": "https://localhost:8080/",
          "height": 331
        }
      },
      "source": [
        "df.hist(column=[\"Revenue Growth\", \"Revenue 2019\"]) #creating a histogram"
      ],
      "execution_count": 0,
      "outputs": [
        {
          "output_type": "execute_result",
          "data": {
            "text/plain": [
              "array([[<matplotlib.axes._subplots.AxesSubplot object at 0x7fbfb6dab198>,\n",
              "        <matplotlib.axes._subplots.AxesSubplot object at 0x7fbfb6db0940>]],\n",
              "      dtype=object)"
            ]
          },
          "metadata": {
            "tags": []
          },
          "execution_count": 100
        },
        {
          "output_type": "display_data",
          "data": {
            "image/png": "[encoded data removed]",
            "text/plain": [
              "<Figure size 432x288 with 2 Axes>"
            ]
          },
          "metadata": {
            "tags": []
          }
        }
      ]
    },
    {
      "cell_type": "code",
      "metadata": {
        "id": "tAt41hqGZNi0",
        "colab_type": "code",
        "outputId": "3c92e0c7-2b69-4b86-c951-2aec6995052b",
        "colab": {
          "base_uri": "https://localhost:8080/",
          "height": 346
        }
      },
      "source": [
        "df.plot(kind=\"bar\", x=\"Product\", y=\"Revenue 2019\")"
      ],
      "execution_count": 0,
      "outputs": [
        {
          "output_type": "execute_result",
          "data": {
            "text/plain": [
              "<matplotlib.axes._subplots.AxesSubplot at 0x7fbfb72a5ef0>"
            ]
          },
          "metadata": {
            "tags": []
          },
          "execution_count": 101
        },
        {
          "output_type": "display_data",
          "data": {
            "image/png": "[encoded data removed]",
            "text/plain": [
              "<Figure size 432x288 with 1 Axes>"
            ]
          },
          "metadata": {
            "tags": []
          }
        }
      ]
    },
    {
      "cell_type": "code",
      "metadata": {
        "id": "1eDhhI4mZqCg",
        "colab_type": "code",
        "outputId": "63c43baa-9874-4c8f-de4c-63ff304beb43",
        "colab": {
          "base_uri": "https://localhost:8080/",
          "height": 296
        }
      },
      "source": [
        "df.plot(kind=\"line\", x=\"Product\", y=\"Revenue 2019\")"
      ],
      "execution_count": 0,
      "outputs": [
        {
          "output_type": "execute_result",
          "data": {
            "text/plain": [
              "<matplotlib.axes._subplots.AxesSubplot at 0x7fbfb6c913c8>"
            ]
          },
          "metadata": {
            "tags": []
          },
          "execution_count": 102
        },
        {
          "output_type": "display_data",
          "data": {
            "image/png": "[encoded data removed]",
            "text/plain": [
              "<Figure size 432x288 with 1 Axes>"
            ]
          },
          "metadata": {
            "tags": []
          }
        }
      ]
    },
    {
      "cell_type": "code",
      "metadata": {
        "id": "5karfbjEZuts",
        "colab_type": "code",
        "outputId": "37cc2266-2700-4d04-b537-8f39796a77b2",
        "colab": {
          "base_uri": "https://localhost:8080/",
          "height": 296
        }
      },
      "source": [
        "df.plot(kind=\"scatter\", x=\"Revenue 2018\", y=\"Revenue 2019\")"
      ],
      "execution_count": 0,
      "outputs": [
        {
          "output_type": "execute_result",
          "data": {
            "text/plain": [
              "<matplotlib.axes._subplots.AxesSubplot at 0x7fbfb6bfce80>"
            ]
          },
          "metadata": {
            "tags": []
          },
          "execution_count": 103
        },
        {
          "output_type": "display_data",
          "data": {
            "image/png": "[encoded data removed]",
            "text/plain": [
              "<Figure size 432x288 with 1 Axes>"
            ]
          },
          "metadata": {
            "tags": []
          }
        }
      ]
    }
  ]
}